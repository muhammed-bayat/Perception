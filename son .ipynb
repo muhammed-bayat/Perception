{
 "cells": [
  {
   "cell_type": "code",
   "execution_count": 15,
   "metadata": {},
   "outputs": [],
   "source": [
    "import numpy as np\n",
    "d = [-1,-1,1]\n",
    "w = np.array([1,-1,0,0.5])\n",
    "x1 = [1,-2,0,-1]\n",
    "x2 = [0,1.5,-0.5,-1]\n",
    "x3 = [-1,1,0.5,-1]\n",
    "c = 0.1\n",
    "def NN(x1,x2,x3,w):\n",
    "    print(\"w1 \",w)\n",
    "    net = 0\n",
    "    for i in range (0,4):\n",
    "        net = net + x1[i]*w[i]\n",
    "    sigmoid(net)\n",
    "    esik(net)\n",
    "    for i in range(1):\n",
    "        d1 = d[i]\n",
    "        if d1 == esik(net):\n",
    "            print(\"w2 \",w)\n",
    "        else:\n",
    "            for i in range (4):\n",
    "                w[i] = w[i] + (d1-esik(net))*c*x1[i]\n",
    "            print(\"w2 \",w)\n",
    "\n",
    "    net = 0\n",
    "    for i in range (0,4):\n",
    "        net = net + x2[i]*w[i]\n",
    "    sigmoid(net)\n",
    "    esik(net)\n",
    "    for i in range(1,2):\n",
    "        d1 = d[i]\n",
    "        if d1 == esik(net):\n",
    "            print(\"w3 \",w)\n",
    "        else:\n",
    "            for i in range (4):\n",
    "                w[i] = w[i] + (d1-esik(net))*c*x2[i]\n",
    "            print(\"w3 \",w)\n",
    "\n",
    "    net = 0\n",
    "    for i in range (0,4):\n",
    "        net = net + x3[i]*w[i]\n",
    "    sigmoid(net)\n",
    "    esik(net)\n",
    "    for i in range(2,3):\n",
    "        d1 = d[i]\n",
    "        if d1 == esik(net):\n",
    "            print(\"w4 \",w)\n",
    "        else:\n",
    "            for i in range (4):\n",
    "                w[i] = w[i] + (d1-esik(net))*c*x3[i]\n",
    "            print(\"w4 \",w)\n",
    "\n",
    "\n",
    "def sigmoid(z):\n",
    "    return round (1/(1 + np.exp(-z)))\n",
    "def esik(y):\n",
    "    if y > 0:\n",
    "        return 1\n",
    "    else:\n",
    "        return -1"
   ]
  },
  {
   "cell_type": "code",
   "execution_count": 16,
   "metadata": {},
   "outputs": [
    {
     "name": "stdout",
     "output_type": "stream",
     "text": [
      "w1  [ 1.  -1.   0.   0.5]\n",
      "w2  [ 0.8 -0.6  0.   0.7]\n",
      "w3  [ 0.8 -0.6  0.   0.7]\n",
      "w4  [ 0.6 -0.4  0.1  0.5]\n"
     ]
    }
   ],
   "source": [
    "NN(x1,x2,x3,w)"
   ]
  },
  {
   "cell_type": "markdown",
   "metadata": {},
   "source": [
    "w1 w2 w3 w4"
   ]
  },
  {
   "cell_type": "code",
   "execution_count": null,
   "metadata": {},
   "outputs": [],
   "source": []
  }
 ],
 "metadata": {
  "kernelspec": {
   "display_name": "Python 3",
   "language": "python",
   "name": "python3"
  },
  "language_info": {
   "codemirror_mode": {
    "name": "ipython",
    "version": 3
   },
   "file_extension": ".py",
   "mimetype": "text/x-python",
   "name": "python",
   "nbconvert_exporter": "python",
   "pygments_lexer": "ipython3",
   "version": "3.8.5"
  }
 },
 "nbformat": 4,
 "nbformat_minor": 4
}
