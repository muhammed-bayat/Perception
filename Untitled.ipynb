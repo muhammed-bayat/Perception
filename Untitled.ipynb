{
 "cells": [
  {
   "cell_type": "code",
   "execution_count": 223,
   "metadata": {},
   "outputs": [],
   "source": [
    "import numpy as np"
   ]
  },
  {
   "cell_type": "code",
   "execution_count": 224,
   "metadata": {},
   "outputs": [],
   "source": [
    "d = [-1]\n",
    "w = [1,-1,0,0.5]\n",
    "x = [1,-2,0,-1]\n",
    "#x = [0,1.5,-0.5,-1]\n",
    "c = 0.1"
   ]
  },
  {
   "cell_type": "code",
   "execution_count": 225,
   "metadata": {},
   "outputs": [],
   "source": [
    "def NN(x,w):\n",
    "    net = 0\n",
    "    for i in range (0,4):\n",
    "        net = net + x[i]*w[i]\n",
    "    sigmoid(net)\n",
    "    esik(net)\n",
    "    return hesap(net)\n",
    "def sigmoid(z):\n",
    "    return round (1/(1 + np.exp(-z)))\n",
    "def esik(y):\n",
    "    if y > 0:\n",
    "        return 1;\n",
    "    else:\n",
    "        return -1\n",
    "def hesap(a):\n",
    "    for i in range(0,4):\n",
    "        d1 = d[i]\n",
    "        if d1 == esik(a):\n",
    "            print(\"d degeri ve sgn degeri birbirine esit\",w)\n",
    "\n",
    "            return w\n",
    "        else:\n",
    "            for i in range (4):\n",
    "                w[i] = w[i] + (d1-esik(a))*c*x[i]\n",
    "            print(\"d1 sgn esit olmadıgı icin  c değeri (%1.1f) ile carpildi\" % c)\n",
    "            return w\n"
   ]
  },
  {
   "cell_type": "code",
   "execution_count": 226,
   "metadata": {},
   "outputs": [
    {
     "name": "stdout",
     "output_type": "stream",
     "text": [
      "d1 sgn esit olmadıgı icin  c değeri (0.1) ile carpildi\n"
     ]
    },
    {
     "data": {
      "text/plain": [
       "[0.8, -0.6, 0.0, 0.7]"
      ]
     },
     "execution_count": 226,
     "metadata": {},
     "output_type": "execute_result"
    }
   ],
   "source": [
    "NN(x,w)"
   ]
  },
  {
   "cell_type": "markdown",
   "metadata": {},
   "source": [
    "# # x,w,d ve c için verilen değerler"
   ]
  },
  {
   "cell_type": "markdown",
   "metadata": {},
   "source": [
    "![image](images/degerler.png)"
   ]
  },
  {
   "cell_type": "markdown",
   "metadata": {},
   "source": [
    "## sonuç değerleri"
   ]
  },
  {
   "cell_type": "markdown",
   "metadata": {},
   "source": [
    "![image](images/sonuc.png)"
   ]
  },
  {
   "cell_type": "markdown",
   "metadata": {},
   "source": [
    "## d2 değeri [-1]\n"
   ]
  },
  {
   "cell_type": "code",
   "execution_count": 227,
   "metadata": {},
   "outputs": [],
   "source": [
    "d = [-1]\n",
    "w = [1,-1,0,0.5]\n",
    "#x = [1,-2,0,-1]\n",
    "x = [0,1.5,-0.5,-1]\n",
    "c = 0.1"
   ]
  },
  {
   "cell_type": "code",
   "execution_count": 228,
   "metadata": {},
   "outputs": [],
   "source": [
    "def NN(x,w):\n",
    "    net = 0\n",
    "    for i in range (0,4):\n",
    "        net = net + x[i]*w[i]\n",
    "    sigmoid(net)\n",
    "    esik(net)\n",
    "    return hesap(net)\n",
    "def sigmoid(z):\n",
    "    return round (1/(1 + np.exp(-z)))\n",
    "def esik(y):\n",
    "    if y > 0:\n",
    "        return 1;\n",
    "    else:\n",
    "        return -1\n",
    "def hesap(a):\n",
    "    for i in range(0,4):\n",
    "        d1 = d[i]\n",
    "        if d1 == esik(a):\n",
    "            print(\"d degeri ve sgn degeri birbirine esit\",w)\n",
    "\n",
    "            return w\n",
    "        else:\n",
    "            for i in range (4):\n",
    "                w[i] = w[i] + (d1-esik(a))*c*x[i]\n",
    "            print(\"d1 sgn esit olmadıgı icin  c değeri (%1.1f) ile carpildi\" % c)\n",
    "            return w\n"
   ]
  },
  {
   "cell_type": "code",
   "execution_count": 229,
   "metadata": {},
   "outputs": [
    {
     "name": "stdout",
     "output_type": "stream",
     "text": [
      "d degeri ve sgn degeri birbirine esit [1, -1, 0, 0.5]\n"
     ]
    },
    {
     "data": {
      "text/plain": [
       "[1, -1, 0, 0.5]"
      ]
     },
     "execution_count": 229,
     "metadata": {},
     "output_type": "execute_result"
    }
   ],
   "source": [
    "NN(x,w)"
   ]
  },
  {
   "cell_type": "markdown",
   "metadata": {},
   "source": [
    "![image](images/d2.png)"
   ]
  },
  {
   "cell_type": "markdown",
   "metadata": {},
   "source": [
    "## w = [-1,1,0.5,-1]"
   ]
  },
  {
   "cell_type": "code",
   "execution_count": 233,
   "metadata": {},
   "outputs": [],
   "source": [
    "d = [1] #  \n",
    "w = [-1,1,0.5,-1]\n",
    "x = [1,-2,0,-1] #x3\n",
    " \n",
    "c = 0.1"
   ]
  },
  {
   "cell_type": "code",
   "execution_count": 234,
   "metadata": {},
   "outputs": [],
   "source": [
    "def NN(x,w):\n",
    "    net = 0\n",
    "    for i in range (0,4):\n",
    "        net = net + x[i]*w[i]\n",
    "    sigmoid(net)\n",
    "    esik(net)\n",
    "    return hesap(net)\n",
    "def sigmoid(z):\n",
    "    return round (1/(1 + np.exp(-z)))\n",
    "def esik(y):\n",
    "    if y > 0:\n",
    "        return 1;\n",
    "    else:\n",
    "        return -1\n",
    "def hesap(a):\n",
    "    for i in range(0,4):\n",
    "        d1 = d[i]\n",
    "        if d1 == esik(a):\n",
    "            print(\"d degeri ve sgn degeri birbirine esit\",w)\n",
    "\n",
    "            return w\n",
    "        else:\n",
    "            for i in range (4):\n",
    "                w[i] = w[i] + (d1-esik(a))*c*x[i]\n",
    "            print(\"d1 sgn esit olmadıgı icin  c değeri (%1.1f) ile carpildi\" % c)\n",
    "            return w\n"
   ]
  },
  {
   "cell_type": "code",
   "execution_count": 235,
   "metadata": {},
   "outputs": [
    {
     "name": "stdout",
     "output_type": "stream",
     "text": [
      "d1 sgn esit olmadıgı icin  c değeri (0.1) ile carpildi\n"
     ]
    },
    {
     "data": {
      "text/plain": [
       "[-0.8, 0.6, 0.5, -1.2]"
      ]
     },
     "execution_count": 235,
     "metadata": {},
     "output_type": "execute_result"
    }
   ],
   "source": [
    "NN(x,w)"
   ]
  },
  {
   "cell_type": "markdown",
   "metadata": {},
   "source": [
    "## c = 0.5"
   ]
  },
  {
   "cell_type": "code",
   "execution_count": 236,
   "metadata": {},
   "outputs": [],
   "source": [
    "d = [1] # d3 1 degeri için\n",
    "w = [-1,1,0.5,-1]\n",
    "x = [1,-2,0,-1] #x3\n",
    " \n",
    "c = 0.5"
   ]
  },
  {
   "cell_type": "code",
   "execution_count": 237,
   "metadata": {},
   "outputs": [],
   "source": [
    "def NN(x,w):\n",
    "    net = 0\n",
    "    for i in range (0,4):\n",
    "        net = net + x[i]*w[i]\n",
    "    sigmoid(net)\n",
    "    esik(net)\n",
    "    return hesap(net)\n",
    "def sigmoid(z):\n",
    "    return round (1/(1 + np.exp(-z)))\n",
    "def esik(y):\n",
    "    if y > 0:\n",
    "        return 1;\n",
    "    else:\n",
    "        return -1\n",
    "def hesap(a):\n",
    "    for i in range(0,4):\n",
    "        d1 = d[i]\n",
    "        if d1 == esik(a):\n",
    "            print(\"d degeri ve sgn degeri birbirine esit\",w)\n",
    "\n",
    "            return w\n",
    "        else:\n",
    "            for i in range (4):\n",
    "                w[i] = w[i] + (d1-esik(a))*c*x[i]\n",
    "            print(\"d1 sgn esit olmadıgı icin  c değeri (%1.1f) ile carpildi\" % c)\n",
    "            return w\n"
   ]
  },
  {
   "cell_type": "code",
   "execution_count": 238,
   "metadata": {},
   "outputs": [
    {
     "name": "stdout",
     "output_type": "stream",
     "text": [
      "d1 sgn esit olmadıgı icin  c değeri (0.5) ile carpildi\n"
     ]
    },
    {
     "data": {
      "text/plain": [
       "[0.0, -1.0, 0.5, -2.0]"
      ]
     },
     "execution_count": 238,
     "metadata": {},
     "output_type": "execute_result"
    }
   ],
   "source": [
    "NN(x,w)"
   ]
  },
  {
   "cell_type": "code",
   "execution_count": null,
   "metadata": {},
   "outputs": [],
   "source": []
  }
 ],
 "metadata": {
  "kernelspec": {
   "display_name": "Python 3",
   "language": "python",
   "name": "python3"
  },
  "language_info": {
   "codemirror_mode": {
    "name": "ipython",
    "version": 3
   },
   "file_extension": ".py",
   "mimetype": "text/x-python",
   "name": "python",
   "nbconvert_exporter": "python",
   "pygments_lexer": "ipython3",
   "version": "3.8.5"
  }
 },
 "nbformat": 4,
 "nbformat_minor": 4
}
